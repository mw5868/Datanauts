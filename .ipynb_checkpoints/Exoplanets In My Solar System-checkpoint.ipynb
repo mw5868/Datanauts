{
 "cells": [
  {
   "cell_type": "markdown",
   "metadata": {},
   "source": [
    "# Exoplanets In My Solar System"
   ]
  },
  {
   "cell_type": "markdown",
   "metadata": {},
   "source": [
    "### This notebook is based on the November 2019 transit of Mercury."
   ]
  },
  {
   "cell_type": "markdown",
   "metadata": {},
   "source": [
    "Planetary transits in the solar system are perfect analogies of explanetary transits. If sufficiently intelligent aliens were monitoring the brightness of our star on Monday 11th November 2019, they may have detected something strange."
   ]
  },
  {
   "cell_type": "markdown",
   "metadata": {},
   "source": [
    "![caption](files/transit_white.png)"
   ]
  },
  {
   "cell_type": "markdown",
   "metadata": {},
   "source": [
    "The above image is a simplified diagram of how planetary transits can be detected by measuring the dip in brightness of the host star, known as the \"Transit Method\". Below is an image I captured of the transit on the 11th. Note the tiny black dot. Thats Mercury!"
   ]
  },
  {
   "cell_type": "markdown",
   "metadata": {},
   "source": [
    "![caption](files/my_mercury.jpg)"
   ]
  },
  {
   "cell_type": "markdown",
   "metadata": {},
   "source": [
    "The change in brightness $\\Delta F$ is related to the size of the planet $R_P$ through a very simple formula."
   ]
  },
  {
   "cell_type": "markdown",
   "metadata": {},
   "source": [
    "$\\Delta F / F = (R_P/R_*)^2$"
   ]
  },
  {
   "cell_type": "markdown",
   "metadata": {},
   "source": [
    "Lets now import some *python* libraries and get Juypter to do the calculation for us."
   ]
  },
  {
   "cell_type": "code",
   "execution_count": 34,
   "metadata": {},
   "outputs": [
    {
     "data": {
      "text/plain": [
       "'The radius of Mercury is 2530000.0, and the radius of the Sun is 695000000.0'"
      ]
     },
     "execution_count": 34,
     "metadata": {},
     "output_type": "execute_result"
    }
   ],
   "source": [
    "import astropy.units as u\n",
    "F = 1370 # Stellar Flux\n",
    "R_p = 2.53E6 # Radius of Mercury in m\n",
    "R_s = 6.95E8 # Radius of the Sun in m\n",
    "\n",
    "F\"The radius of Mercury is {R_p}, and the radius of the Sun is {R_s}\""
   ]
  },
  {
   "cell_type": "code",
   "execution_count": 35,
   "metadata": {},
   "outputs": [
    {
     "data": {
      "text/plain": [
       "'The drop in flux due to the transit of Mercury is 0.007280575539568345'"
      ]
     },
     "execution_count": 35,
     "metadata": {},
     "output_type": "execute_result"
    }
   ],
   "source": [
    "delta_f_f = ((R_p/R_s)*2)\n",
    "F\"The drop in flux due to the transit of Mercury is {delta_f_f}\""
   ]
  },
  {
   "cell_type": "markdown",
   "metadata": {},
   "source": [
    "Using the [BATMAN](https://www.cfa.harvard.edu/~lkreidberg/batman/index.html) python code, it is possible to simulate what the Mercury transit lightcurve would look like observer from a large distance."
   ]
  },
  {
   "cell_type": "code",
   "execution_count": 68,
   "metadata": {},
   "outputs": [
    {
     "data": {
      "image/png": "[encoded data removed]",
      "text/plain": [
       "<matplotlib.figure.Figure at 0x5282370>"
      ]
     },
     "metadata": {},
     "output_type": "display_data"
    }
   ],
   "source": [
    "import batman\n",
    "import numpy as np\n",
    "import matplotlib.pyplot as plt\n",
    "\n",
    "params = batman.TransitParams()\n",
    "params.t0 = 0.                       #time of inferior conjunction\n",
    "params.per = 88.                     #orbital period\n",
    "params.rp = R_p/R_s                  #planet radius (in units of stellar radii)\n",
    "params.a = 5.7E7/R_s                 #semi-major axis (in units of stellar radii)\n",
    "params.inc = 87.                     #orbital inclination (in degrees)\n",
    "params.ecc = 0.                      #eccentricity\n",
    "params.w = 90.                       #longitude of periastron (in degrees)\n",
    "params.u = [0.1, 0.3]                #limb darkening coefficients [u1, u2]\n",
    "params.limb_dark = \"quadratic\"       #limb darkening model\n",
    "\n",
    "t = np.linspace(-30, 30, 100)\n",
    "\n",
    "m = batman.TransitModel(params, t)    #initializes model\n",
    "flux = m.light_curve(params)          #calculates light curve\n",
    "\n",
    "plt.plot(t, flux)\n",
    "plt.xlabel(\"Time from central transit\")\n",
    "plt.ylabel(\"Relative flux\")\n",
    "plt.show()"
   ]
  },
  {
   "cell_type": "code",
   "execution_count": null,
   "metadata": {},
   "outputs": [],
   "source": []
  }
 ],
 "metadata": {
  "kernelspec": {
   "display_name": "Python 3",
   "language": "python",
   "name": "python3"
  },
  "language_info": {
   "codemirror_mode": {
    "name": "ipython",
    "version": 3
   },
   "file_extension": ".py",
   "mimetype": "text/x-python",
   "name": "python",
   "nbconvert_exporter": "python",
   "pygments_lexer": "ipython3",
   "version": "3.6.4"
  }
 },
 "nbformat": 4,
 "nbformat_minor": 2
}
